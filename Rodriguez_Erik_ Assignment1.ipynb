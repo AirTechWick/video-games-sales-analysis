{
 "cells": [
  {
   "cell_type": "code",
   "execution_count": 339,
   "id": "c04f9b8b-06ae-4d5c-a897-b9020f397d6a",
   "metadata": {},
   "outputs": [],
   "source": [
    "# Erik Rodriguez Video Games Data Analysis and Visualizations"
   ]
  },
  {
   "cell_type": "code",
   "execution_count": 37,
   "id": "c8b07cbe-2227-4ecc-a3a8-d26441a73500",
   "metadata": {},
   "outputs": [],
   "source": [
    "import matplotlib.pyplot as plt\n",
    "import pandas as pd"
   ]
  },
  {
   "cell_type": "code",
   "execution_count": 39,
   "id": "34c7e01a-4043-48f3-9d12-5f0f277a0417",
   "metadata": {},
   "outputs": [],
   "source": [
    "# Read Data using pandas\n",
    "vg_sales = pd.read_csv(\"vgsales_top300.csv\")"
   ]
  },
  {
   "cell_type": "code",
   "execution_count": 41,
   "id": "361fa215-0fc4-4783-ac14-73b94da3f735",
   "metadata": {},
   "outputs": [
    {
     "data": {
      "text/html": [
       "<div>\n",
       "<style scoped>\n",
       "    .dataframe tbody tr th:only-of-type {\n",
       "        vertical-align: middle;\n",
       "    }\n",
       "\n",
       "    .dataframe tbody tr th {\n",
       "        vertical-align: top;\n",
       "    }\n",
       "\n",
       "    .dataframe thead th {\n",
       "        text-align: right;\n",
       "    }\n",
       "</style>\n",
       "<table border=\"1\" class=\"dataframe\">\n",
       "  <thead>\n",
       "    <tr style=\"text-align: right;\">\n",
       "      <th></th>\n",
       "      <th>Rank</th>\n",
       "      <th>Name</th>\n",
       "      <th>Platform</th>\n",
       "      <th>Year</th>\n",
       "      <th>Genre</th>\n",
       "      <th>Publisher</th>\n",
       "      <th>NA_Sales</th>\n",
       "      <th>EU_Sales</th>\n",
       "      <th>JP_Sales</th>\n",
       "      <th>Other_Sales</th>\n",
       "      <th>Global_Sales</th>\n",
       "    </tr>\n",
       "  </thead>\n",
       "  <tbody>\n",
       "    <tr>\n",
       "      <th>0</th>\n",
       "      <td>1</td>\n",
       "      <td>Wii Sports</td>\n",
       "      <td>Wii</td>\n",
       "      <td>2006</td>\n",
       "      <td>Sports</td>\n",
       "      <td>Nintendo</td>\n",
       "      <td>41.49</td>\n",
       "      <td>29.02</td>\n",
       "      <td>3.77</td>\n",
       "      <td>8.46</td>\n",
       "      <td>82.74</td>\n",
       "    </tr>\n",
       "    <tr>\n",
       "      <th>1</th>\n",
       "      <td>2</td>\n",
       "      <td>Super Mario Bros.</td>\n",
       "      <td>NES</td>\n",
       "      <td>1985</td>\n",
       "      <td>Platform</td>\n",
       "      <td>Nintendo</td>\n",
       "      <td>29.08</td>\n",
       "      <td>3.58</td>\n",
       "      <td>6.81</td>\n",
       "      <td>0.77</td>\n",
       "      <td>40.24</td>\n",
       "    </tr>\n",
       "    <tr>\n",
       "      <th>2</th>\n",
       "      <td>3</td>\n",
       "      <td>Mario Kart Wii</td>\n",
       "      <td>Wii</td>\n",
       "      <td>2008</td>\n",
       "      <td>Racing</td>\n",
       "      <td>Nintendo</td>\n",
       "      <td>15.85</td>\n",
       "      <td>12.88</td>\n",
       "      <td>3.79</td>\n",
       "      <td>3.31</td>\n",
       "      <td>35.82</td>\n",
       "    </tr>\n",
       "    <tr>\n",
       "      <th>3</th>\n",
       "      <td>4</td>\n",
       "      <td>Wii Sports Resort</td>\n",
       "      <td>Wii</td>\n",
       "      <td>2009</td>\n",
       "      <td>Sports</td>\n",
       "      <td>Nintendo</td>\n",
       "      <td>15.75</td>\n",
       "      <td>11.01</td>\n",
       "      <td>3.28</td>\n",
       "      <td>2.96</td>\n",
       "      <td>33.00</td>\n",
       "    </tr>\n",
       "    <tr>\n",
       "      <th>4</th>\n",
       "      <td>5</td>\n",
       "      <td>Pokemon Red/Pokemon Blue</td>\n",
       "      <td>GB</td>\n",
       "      <td>1996</td>\n",
       "      <td>Role-Playing</td>\n",
       "      <td>Nintendo</td>\n",
       "      <td>11.27</td>\n",
       "      <td>8.89</td>\n",
       "      <td>10.22</td>\n",
       "      <td>1.00</td>\n",
       "      <td>31.37</td>\n",
       "    </tr>\n",
       "    <tr>\n",
       "      <th>...</th>\n",
       "      <td>...</td>\n",
       "      <td>...</td>\n",
       "      <td>...</td>\n",
       "      <td>...</td>\n",
       "      <td>...</td>\n",
       "      <td>...</td>\n",
       "      <td>...</td>\n",
       "      <td>...</td>\n",
       "      <td>...</td>\n",
       "      <td>...</td>\n",
       "      <td>...</td>\n",
       "    </tr>\n",
       "    <tr>\n",
       "      <th>295</th>\n",
       "      <td>296</td>\n",
       "      <td>Far Cry 4</td>\n",
       "      <td>PS4</td>\n",
       "      <td>2014</td>\n",
       "      <td>Shooter</td>\n",
       "      <td>Ubisoft</td>\n",
       "      <td>1.12</td>\n",
       "      <td>2.12</td>\n",
       "      <td>0.10</td>\n",
       "      <td>0.69</td>\n",
       "      <td>4.03</td>\n",
       "    </tr>\n",
       "    <tr>\n",
       "      <th>296</th>\n",
       "      <td>297</td>\n",
       "      <td>Star Fox 64</td>\n",
       "      <td>N64</td>\n",
       "      <td>1997</td>\n",
       "      <td>Shooter</td>\n",
       "      <td>Nintendo</td>\n",
       "      <td>2.78</td>\n",
       "      <td>0.58</td>\n",
       "      <td>0.64</td>\n",
       "      <td>0.04</td>\n",
       "      <td>4.03</td>\n",
       "    </tr>\n",
       "    <tr>\n",
       "      <th>297</th>\n",
       "      <td>298</td>\n",
       "      <td>Minecraft</td>\n",
       "      <td>PS4</td>\n",
       "      <td>2014</td>\n",
       "      <td>Misc</td>\n",
       "      <td>Sony Computer Entertainment Europe</td>\n",
       "      <td>1.38</td>\n",
       "      <td>1.87</td>\n",
       "      <td>0.12</td>\n",
       "      <td>0.65</td>\n",
       "      <td>4.02</td>\n",
       "    </tr>\n",
       "    <tr>\n",
       "      <th>298</th>\n",
       "      <td>299</td>\n",
       "      <td>Golf</td>\n",
       "      <td>NES</td>\n",
       "      <td>1984</td>\n",
       "      <td>Sports</td>\n",
       "      <td>Nintendo</td>\n",
       "      <td>1.22</td>\n",
       "      <td>0.28</td>\n",
       "      <td>2.46</td>\n",
       "      <td>0.04</td>\n",
       "      <td>4.01</td>\n",
       "    </tr>\n",
       "    <tr>\n",
       "      <th>299</th>\n",
       "      <td>300</td>\n",
       "      <td>Fallout 3</td>\n",
       "      <td>PS3</td>\n",
       "      <td>2008</td>\n",
       "      <td>Role-Playing</td>\n",
       "      <td>Bethesda Softworks</td>\n",
       "      <td>2.15</td>\n",
       "      <td>1.20</td>\n",
       "      <td>0.07</td>\n",
       "      <td>0.59</td>\n",
       "      <td>4.01</td>\n",
       "    </tr>\n",
       "  </tbody>\n",
       "</table>\n",
       "<p>300 rows × 11 columns</p>\n",
       "</div>"
      ],
      "text/plain": [
       "     Rank                      Name Platform  Year         Genre  \\\n",
       "0       1                Wii Sports      Wii  2006        Sports   \n",
       "1       2         Super Mario Bros.      NES  1985      Platform   \n",
       "2       3            Mario Kart Wii      Wii  2008        Racing   \n",
       "3       4         Wii Sports Resort      Wii  2009        Sports   \n",
       "4       5  Pokemon Red/Pokemon Blue       GB  1996  Role-Playing   \n",
       "..    ...                       ...      ...   ...           ...   \n",
       "295   296                 Far Cry 4      PS4  2014       Shooter   \n",
       "296   297               Star Fox 64      N64  1997       Shooter   \n",
       "297   298                 Minecraft      PS4  2014          Misc   \n",
       "298   299                      Golf      NES  1984        Sports   \n",
       "299   300                 Fallout 3      PS3  2008  Role-Playing   \n",
       "\n",
       "                              Publisher  NA_Sales  EU_Sales  JP_Sales  \\\n",
       "0                              Nintendo     41.49     29.02      3.77   \n",
       "1                              Nintendo     29.08      3.58      6.81   \n",
       "2                              Nintendo     15.85     12.88      3.79   \n",
       "3                              Nintendo     15.75     11.01      3.28   \n",
       "4                              Nintendo     11.27      8.89     10.22   \n",
       "..                                  ...       ...       ...       ...   \n",
       "295                             Ubisoft      1.12      2.12      0.10   \n",
       "296                            Nintendo      2.78      0.58      0.64   \n",
       "297  Sony Computer Entertainment Europe      1.38      1.87      0.12   \n",
       "298                            Nintendo      1.22      0.28      2.46   \n",
       "299                  Bethesda Softworks      2.15      1.20      0.07   \n",
       "\n",
       "     Other_Sales  Global_Sales  \n",
       "0           8.46         82.74  \n",
       "1           0.77         40.24  \n",
       "2           3.31         35.82  \n",
       "3           2.96         33.00  \n",
       "4           1.00         31.37  \n",
       "..           ...           ...  \n",
       "295         0.69          4.03  \n",
       "296         0.04          4.03  \n",
       "297         0.65          4.02  \n",
       "298         0.04          4.01  \n",
       "299         0.59          4.01  \n",
       "\n",
       "[300 rows x 11 columns]"
      ]
     },
     "execution_count": 41,
     "metadata": {},
     "output_type": "execute_result"
    }
   ],
   "source": [
    "vg_sales"
   ]
  },
  {
   "cell_type": "code",
   "execution_count": 132,
   "id": "6d649d3f-9361-4a2a-8e80-8af787d8610e",
   "metadata": {},
   "outputs": [],
   "source": [
    "# Want to see video game sales of GameBoy GB only\n",
    "gb_games_filter = vg_sales[vg_sales[\"Platform\"] == \"GB\"] \n",
    "\n",
    "# Using the Names of the games as the x labels\n",
    "categories_x = gb_games_filter[\"Name\"]\n",
    "\n",
    "# Want to see NA sales as the Y axis values\n",
    "values_y = gb_games_filter[\"NA_Sales\"] \n",
    "\n",
    "# Sorting the NA sales from Most sold to Least sold\n",
    "sort_values_y = gb_games_filter[\"NA_Sales\"].sort_values(ascending=False)"
   ]
  },
  {
   "cell_type": "code",
   "execution_count": 142,
   "id": "23aa0d5a-64eb-499c-aceb-41d9da30ad3e",
   "metadata": {},
   "outputs": [
    {
     "data": {
      "text/html": [
       "<div>\n",
       "<style scoped>\n",
       "    .dataframe tbody tr th:only-of-type {\n",
       "        vertical-align: middle;\n",
       "    }\n",
       "\n",
       "    .dataframe tbody tr th {\n",
       "        vertical-align: top;\n",
       "    }\n",
       "\n",
       "    .dataframe thead th {\n",
       "        text-align: right;\n",
       "    }\n",
       "</style>\n",
       "<table border=\"1\" class=\"dataframe\">\n",
       "  <thead>\n",
       "    <tr style=\"text-align: right;\">\n",
       "      <th></th>\n",
       "      <th>Rank</th>\n",
       "      <th>Name</th>\n",
       "      <th>Platform</th>\n",
       "      <th>Year</th>\n",
       "      <th>Genre</th>\n",
       "      <th>Publisher</th>\n",
       "      <th>NA_Sales</th>\n",
       "      <th>EU_Sales</th>\n",
       "      <th>JP_Sales</th>\n",
       "      <th>Other_Sales</th>\n",
       "      <th>Global_Sales</th>\n",
       "    </tr>\n",
       "  </thead>\n",
       "  <tbody>\n",
       "    <tr>\n",
       "      <th>4</th>\n",
       "      <td>5</td>\n",
       "      <td>Pokemon Red/Pokemon Blue</td>\n",
       "      <td>GB</td>\n",
       "      <td>1996</td>\n",
       "      <td>Role-Playing</td>\n",
       "      <td>Nintendo</td>\n",
       "      <td>11.27</td>\n",
       "      <td>8.89</td>\n",
       "      <td>10.22</td>\n",
       "      <td>1.00</td>\n",
       "      <td>31.37</td>\n",
       "    </tr>\n",
       "    <tr>\n",
       "      <th>5</th>\n",
       "      <td>6</td>\n",
       "      <td>Tetris</td>\n",
       "      <td>GB</td>\n",
       "      <td>1989</td>\n",
       "      <td>Puzzle</td>\n",
       "      <td>Nintendo</td>\n",
       "      <td>23.20</td>\n",
       "      <td>2.26</td>\n",
       "      <td>4.22</td>\n",
       "      <td>0.58</td>\n",
       "      <td>30.26</td>\n",
       "    </tr>\n",
       "    <tr>\n",
       "      <th>12</th>\n",
       "      <td>13</td>\n",
       "      <td>Pokemon Gold/Pokemon Silver</td>\n",
       "      <td>GB</td>\n",
       "      <td>1999</td>\n",
       "      <td>Role-Playing</td>\n",
       "      <td>Nintendo</td>\n",
       "      <td>9.00</td>\n",
       "      <td>6.18</td>\n",
       "      <td>7.20</td>\n",
       "      <td>0.71</td>\n",
       "      <td>23.10</td>\n",
       "    </tr>\n",
       "    <tr>\n",
       "      <th>21</th>\n",
       "      <td>22</td>\n",
       "      <td>Super Mario Land</td>\n",
       "      <td>GB</td>\n",
       "      <td>1989</td>\n",
       "      <td>Platform</td>\n",
       "      <td>Nintendo</td>\n",
       "      <td>10.83</td>\n",
       "      <td>2.71</td>\n",
       "      <td>4.18</td>\n",
       "      <td>0.42</td>\n",
       "      <td>18.14</td>\n",
       "    </tr>\n",
       "    <tr>\n",
       "      <th>30</th>\n",
       "      <td>31</td>\n",
       "      <td>Pokémon Yellow: Special Pikachu Edition</td>\n",
       "      <td>GB</td>\n",
       "      <td>1998</td>\n",
       "      <td>Role-Playing</td>\n",
       "      <td>Nintendo</td>\n",
       "      <td>5.89</td>\n",
       "      <td>5.04</td>\n",
       "      <td>3.12</td>\n",
       "      <td>0.59</td>\n",
       "      <td>14.64</td>\n",
       "    </tr>\n",
       "    <tr>\n",
       "      <th>50</th>\n",
       "      <td>51</td>\n",
       "      <td>Super Mario Land 2: 6 Golden Coins</td>\n",
       "      <td>GB</td>\n",
       "      <td>1992</td>\n",
       "      <td>Adventure</td>\n",
       "      <td>Nintendo</td>\n",
       "      <td>6.16</td>\n",
       "      <td>2.04</td>\n",
       "      <td>2.69</td>\n",
       "      <td>0.29</td>\n",
       "      <td>11.18</td>\n",
       "    </tr>\n",
       "    <tr>\n",
       "      <th>132</th>\n",
       "      <td>133</td>\n",
       "      <td>Pokémon Crystal Version</td>\n",
       "      <td>GB</td>\n",
       "      <td>2000</td>\n",
       "      <td>Role-Playing</td>\n",
       "      <td>Nintendo</td>\n",
       "      <td>2.55</td>\n",
       "      <td>1.56</td>\n",
       "      <td>1.29</td>\n",
       "      <td>0.99</td>\n",
       "      <td>6.39</td>\n",
       "    </tr>\n",
       "    <tr>\n",
       "      <th>170</th>\n",
       "      <td>171</td>\n",
       "      <td>Dr. Mario</td>\n",
       "      <td>GB</td>\n",
       "      <td>1989</td>\n",
       "      <td>Puzzle</td>\n",
       "      <td>Nintendo</td>\n",
       "      <td>2.18</td>\n",
       "      <td>0.96</td>\n",
       "      <td>2.00</td>\n",
       "      <td>0.20</td>\n",
       "      <td>5.34</td>\n",
       "    </tr>\n",
       "    <tr>\n",
       "      <th>171</th>\n",
       "      <td>172</td>\n",
       "      <td>Pokemon Pinball</td>\n",
       "      <td>GB</td>\n",
       "      <td>1999</td>\n",
       "      <td>Misc</td>\n",
       "      <td>Nintendo</td>\n",
       "      <td>3.02</td>\n",
       "      <td>1.12</td>\n",
       "      <td>1.01</td>\n",
       "      <td>0.16</td>\n",
       "      <td>5.31</td>\n",
       "    </tr>\n",
       "    <tr>\n",
       "      <th>184</th>\n",
       "      <td>185</td>\n",
       "      <td>Super Mario Land 3: Wario Land</td>\n",
       "      <td>GB</td>\n",
       "      <td>1994</td>\n",
       "      <td>Platform</td>\n",
       "      <td>Nintendo</td>\n",
       "      <td>2.49</td>\n",
       "      <td>0.98</td>\n",
       "      <td>1.57</td>\n",
       "      <td>0.15</td>\n",
       "      <td>5.19</td>\n",
       "    </tr>\n",
       "    <tr>\n",
       "      <th>191</th>\n",
       "      <td>192</td>\n",
       "      <td>Kirby's Dream Land</td>\n",
       "      <td>GB</td>\n",
       "      <td>1992</td>\n",
       "      <td>Platform</td>\n",
       "      <td>Nintendo</td>\n",
       "      <td>2.71</td>\n",
       "      <td>0.61</td>\n",
       "      <td>1.70</td>\n",
       "      <td>0.11</td>\n",
       "      <td>5.13</td>\n",
       "    </tr>\n",
       "    <tr>\n",
       "      <th>200</th>\n",
       "      <td>201</td>\n",
       "      <td>Super Mario Bros.</td>\n",
       "      <td>GB</td>\n",
       "      <td>1999</td>\n",
       "      <td>Platform</td>\n",
       "      <td>Nintendo</td>\n",
       "      <td>3.40</td>\n",
       "      <td>1.30</td>\n",
       "      <td>0.15</td>\n",
       "      <td>0.22</td>\n",
       "      <td>5.07</td>\n",
       "    </tr>\n",
       "  </tbody>\n",
       "</table>\n",
       "</div>"
      ],
      "text/plain": [
       "     Rank                                     Name Platform  Year  \\\n",
       "4       5                 Pokemon Red/Pokemon Blue       GB  1996   \n",
       "5       6                                   Tetris       GB  1989   \n",
       "12     13              Pokemon Gold/Pokemon Silver       GB  1999   \n",
       "21     22                         Super Mario Land       GB  1989   \n",
       "30     31  Pokémon Yellow: Special Pikachu Edition       GB  1998   \n",
       "50     51       Super Mario Land 2: 6 Golden Coins       GB  1992   \n",
       "132   133                  Pokémon Crystal Version       GB  2000   \n",
       "170   171                                Dr. Mario       GB  1989   \n",
       "171   172                          Pokemon Pinball       GB  1999   \n",
       "184   185           Super Mario Land 3: Wario Land       GB  1994   \n",
       "191   192                       Kirby's Dream Land       GB  1992   \n",
       "200   201                        Super Mario Bros.       GB  1999   \n",
       "\n",
       "            Genre Publisher  NA_Sales  EU_Sales  JP_Sales  Other_Sales  \\\n",
       "4    Role-Playing  Nintendo     11.27      8.89     10.22         1.00   \n",
       "5          Puzzle  Nintendo     23.20      2.26      4.22         0.58   \n",
       "12   Role-Playing  Nintendo      9.00      6.18      7.20         0.71   \n",
       "21       Platform  Nintendo     10.83      2.71      4.18         0.42   \n",
       "30   Role-Playing  Nintendo      5.89      5.04      3.12         0.59   \n",
       "50      Adventure  Nintendo      6.16      2.04      2.69         0.29   \n",
       "132  Role-Playing  Nintendo      2.55      1.56      1.29         0.99   \n",
       "170        Puzzle  Nintendo      2.18      0.96      2.00         0.20   \n",
       "171          Misc  Nintendo      3.02      1.12      1.01         0.16   \n",
       "184      Platform  Nintendo      2.49      0.98      1.57         0.15   \n",
       "191      Platform  Nintendo      2.71      0.61      1.70         0.11   \n",
       "200      Platform  Nintendo      3.40      1.30      0.15         0.22   \n",
       "\n",
       "     Global_Sales  \n",
       "4           31.37  \n",
       "5           30.26  \n",
       "12          23.10  \n",
       "21          18.14  \n",
       "30          14.64  \n",
       "50          11.18  \n",
       "132          6.39  \n",
       "170          5.34  \n",
       "171          5.31  \n",
       "184          5.19  \n",
       "191          5.13  \n",
       "200          5.07  "
      ]
     },
     "execution_count": 142,
     "metadata": {},
     "output_type": "execute_result"
    }
   ],
   "source": [
    "gb_games_filter"
   ]
  },
  {
   "cell_type": "code",
   "execution_count": 126,
   "id": "f66893d5-77f2-4b52-8a95-75e83d4745a2",
   "metadata": {},
   "outputs": [
    {
     "data": {
      "text/plain": [
       "5      23.20\n",
       "4      11.27\n",
       "21     10.83\n",
       "12      9.00\n",
       "50      6.16\n",
       "30      5.89\n",
       "200     3.40\n",
       "171     3.02\n",
       "191     2.71\n",
       "132     2.55\n",
       "184     2.49\n",
       "170     2.18\n",
       "Name: NA_Sales, dtype: float64"
      ]
     },
     "execution_count": 126,
     "metadata": {},
     "output_type": "execute_result"
    }
   ],
   "source": [
    "sort_values_y"
   ]
  },
  {
   "cell_type": "markdown",
   "id": "0fa8d401-89c2-49a2-b951-33cdbb5d430d",
   "metadata": {},
   "source": [
    "# Bar Chart of Top selling Game Boy Games"
   ]
  },
  {
   "cell_type": "code",
   "execution_count": 291,
   "id": "d5a2486a-fa7c-499e-b54c-a295ce045ce0",
   "metadata": {},
   "outputs": [
    {
     "data": {
      "text/plain": [
       "(0.0, 3.0)"
      ]
     },
     "execution_count": 291,
     "metadata": {},
     "output_type": "execute_result"
    },
    {
     "data": {
      "image/png": "[encoded data removed]",
      "text/plain": [
       "<Figure size 640x480 with 1 Axes>"
      ]
     },
     "metadata": {},
     "output_type": "display_data"
    }
   ],
   "source": [
    "# matplotlib to plot bar graph\n",
    "plt.bar(categories_x, sort_values_y)\n",
    "\n",
    "# setting font size\n",
    "plt.rcParams['font.size'] = 8  \n",
    "\n",
    "# limiting display of x axis\n",
    "plt.xlim(0,3)"
   ]
  },
  {
   "cell_type": "markdown",
   "id": "eadcc691-423e-4532-881f-92bbe3c237fc",
   "metadata": {},
   "source": [
    "# Frequency of Genre in all GBA games"
   ]
  },
  {
   "cell_type": "code",
   "execution_count": 314,
   "id": "e3a41d62-b0bd-4e9c-8177-ca56a0374ebb",
   "metadata": {},
   "outputs": [
    {
     "data": {
      "image/png": "[encoded data removed]",
      "text/plain": [
       "<Figure size 640x480 with 1 Axes>"
      ]
     },
     "metadata": {},
     "output_type": "display_data"
    }
   ],
   "source": [
    "# How frequent each genre is in gba games\n",
    "freq_genre = plt.hist(gb_games_filter[\"Genre\"])"
   ]
  },
  {
   "cell_type": "code",
   "execution_count": 316,
   "id": "48158019-1b11-487d-905f-552257689806",
   "metadata": {},
   "outputs": [],
   "source": [
    "x_hist_genre = gb_games_filter[\"Genre\"]"
   ]
  },
  {
   "cell_type": "code",
   "execution_count": 318,
   "id": "ae8453c0-e73c-424e-bf5b-78bd672b44ba",
   "metadata": {},
   "outputs": [],
   "source": [
    "from collections import Counter"
   ]
  },
  {
   "cell_type": "markdown",
   "id": "e0d1f62c-c329-4cd2-8134-ecfba1207e93",
   "metadata": {},
   "source": [
    "# Most popular genres in GB games"
   ]
  },
  {
   "cell_type": "code",
   "execution_count": 299,
   "id": "17fa447d-1d16-47d4-a8cc-131d11d888db",
   "metadata": {},
   "outputs": [
    {
     "data": {
      "text/plain": [
       "([<matplotlib.patches.Wedge at 0x28a025bbef0>,\n",
       "  <matplotlib.patches.Wedge at 0x28a02669040>,\n",
       "  <matplotlib.patches.Wedge at 0x28a0268e4e0>,\n",
       "  <matplotlib.patches.Wedge at 0x28a02668650>,\n",
       "  <matplotlib.patches.Wedge at 0x28a0268e900>],\n",
       " [Text(0.5499999702695115, 0.9526279613277875, 'Role-Playing'),\n",
       "  Text(-0.9526279870751434, 0.5499999256737774, 'Puzzle'),\n",
       "  Text(-0.5499998810780428, -0.9526280128224968, 'Platform'),\n",
       "  Text(0.7778175867481129, -0.777817331862271, 'Adventure'),\n",
       "  Text(1.0625184600079092, -0.2847007589424754, 'Misc')])"
      ]
     },
     "execution_count": 299,
     "metadata": {},
     "output_type": "execute_result"
    },
    {
     "data": {
      "image/png": "[encoded data removed]",
      "text/plain": [
       "<Figure size 640x480 with 1 Axes>"
      ]
     },
     "metadata": {},
     "output_type": "display_data"
    }
   ],
   "source": [
    "genre_counts = Counter(x_hist_genre)\n",
    "\n",
    "plt.pie(genre_counts.values(), labels=genre_counts.keys())"
   ]
  },
  {
   "cell_type": "markdown",
   "id": "c0280ced-b66c-4b06-a497-d4012b9d1286",
   "metadata": {},
   "source": [
    "# NA Sales of games through years"
   ]
  },
  {
   "cell_type": "code",
   "execution_count": 328,
   "id": "82a57b93-4f30-4e71-848b-317ecf4e1980",
   "metadata": {},
   "outputs": [
    {
     "data": {
      "text/plain": [
       "[<matplotlib.lines.Line2D at 0x28a02459e20>]"
      ]
     },
     "execution_count": 328,
     "metadata": {},
     "output_type": "execute_result"
    },
    {
     "data": {
      "image/png": "[encoded data removed]",
      "text/plain": [
       "<Figure size 640x480 with 1 Axes>"
      ]
     },
     "metadata": {},
     "output_type": "display_data"
    }
   ],
   "source": [
    "x_inputs = range(1990,2002)\n",
    "plt.plot(x_inputs, gb_games_filter[\"NA_Sales\"])"
   ]
  },
  {
   "cell_type": "markdown",
   "id": "41a7ccbe-775d-4f50-beb2-0b3e80d67f87",
   "metadata": {},
   "source": [
    "# Sales Compared to Eachother"
   ]
  },
  {
   "cell_type": "code",
   "execution_count": 303,
   "id": "2e429d81-52ca-40b0-ab42-da5ec77640f2",
   "metadata": {},
   "outputs": [
    {
     "data": {
      "text/plain": [
       "<matplotlib.legend.Legend at 0x28a0258ac30>"
      ]
     },
     "execution_count": 303,
     "metadata": {},
     "output_type": "execute_result"
    },
    {
     "data": {
      "image/png": "[encoded data removed]",
      "text/plain": [
       "<Figure size 640x480 with 1 Axes>"
      ]
     },
     "metadata": {},
     "output_type": "display_data"
    }
   ],
   "source": [
    "x_inputs = range(1990,2002)\n",
    "na_sales = gb_games_filter[\"NA_Sales\"]\n",
    "eu_sales = gb_games_filter[\"EU_Sales\"]\n",
    "jp_sales = gb_games_filter[\"JP_Sales\"]\n",
    "\n",
    "plt.fill_between(x_inputs, na_sales, label=\"NA Sales\")\n",
    "plt.fill_between(x_inputs, eu_sales + na_sales, na_sales, label=\"EU Sales\")\n",
    "plt.fill_between(x_inputs, na_sales + eu_sales + jp_sales, na_sales + eu_sales, label=\"JP Sales\")\n",
    "\n",
    "plt.legend()"
   ]
  },
  {
   "cell_type": "markdown",
   "id": "ad43d435-0707-4c4b-b866-c8b072057b90",
   "metadata": {},
   "source": [
    "# Games Sold in EU"
   ]
  },
  {
   "cell_type": "code",
   "execution_count": 337,
   "id": "a622789d-92c6-4fa6-9aef-f05a42c409cb",
   "metadata": {},
   "outputs": [
    {
     "data": {
      "text/plain": [
       "<matplotlib.collections.PathCollection at 0x28a026ffaa0>"
      ]
     },
     "execution_count": 337,
     "metadata": {},
     "output_type": "execute_result"
    },
    {
     "data": {
      "image/png": "[encoded data removed]",
      "text/plain": [
       "<Figure size 640x480 with 1 Axes>"
      ]
     },
     "metadata": {},
     "output_type": "display_data"
    }
   ],
   "source": [
    "plt.scatter(vg_sales[\"Year\"],vg_sales[\"EU_Sales\"])"
   ]
  }
 ],
 "metadata": {
  "kernelspec": {
   "display_name": "Python 3 (ipykernel)",
   "language": "python",
   "name": "python3"
  },
  "language_info": {
   "codemirror_mode": {
    "name": "ipython",
    "version": 3
   },
   "file_extension": ".py",
   "mimetype": "text/x-python",
   "name": "python",
   "nbconvert_exporter": "python",
   "pygments_lexer": "ipython3",
   "version": "3.12.4"
  }
 },
 "nbformat": 4,
 "nbformat_minor": 5
}
